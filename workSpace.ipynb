{
 "cells": [
  {
   "cell_type": "markdown",
   "metadata": {},
   "source": [
    "## YaSpeller\n",
    "**Проверка орфографии**"
   ]
  },
  {
   "cell_type": "code",
   "execution_count": 8,
   "metadata": {},
   "outputs": [],
   "source": [
    "import requests\n",
    "from pyaspeller import Word"
   ]
  },
  {
   "cell_type": "code",
   "execution_count": 4,
   "metadata": {},
   "outputs": [
    {
     "name": "stdout",
     "output_type": "stream",
     "text": [
      "False\n",
      "['Компьютер']\n"
     ]
    }
   ],
   "source": [
    "check_wrong = Word('Кампьютер')\n",
    "print(check_wrong.correct)\n",
    "print(check_wrong.variants)"
   ]
  },
  {
   "cell_type": "code",
   "execution_count": 9,
   "metadata": {},
   "outputs": [
    {
     "name": "stdout",
     "output_type": "stream",
     "text": [
      "True\n"
     ]
    }
   ],
   "source": [
    "check_correct = Word('Стол')\n",
    "print(check_correct.correct)"
   ]
  },
  {
   "cell_type": "markdown",
   "metadata": {},
   "source": [
    "## YaDictionary\n",
    "**Поиск синонимов**"
   ]
  },
  {
   "cell_type": "code",
   "execution_count": 54,
   "metadata": {},
   "outputs": [],
   "source": [
    "import sys \n",
    "import config\n",
    "sys.path.append('__init__.py')\n",
    "from __init__ import YandexDictionary"
   ]
  },
  {
   "cell_type": "code",
   "execution_count": 82,
   "metadata": {},
   "outputs": [],
   "source": [
    "def search_syn(word):\n",
    "    \n",
    "    # Получаем ответ API на запрос по слову\n",
    "    dictionary = YandexDictionary(config.API_DICT_KEY)\n",
    "    output = dictionary.lookup(word, 'ru', 'ru')\n",
    "    \n",
    "    # Фильтруем (очищаем) данные\n",
    "    russian_letters = set(\"ёйцукенгшщзхъфывапролджэячсмитьбю \")\n",
    "    russian_text = \"\"\n",
    "    for letter in output:\n",
    "        if letter in letters_russian:\n",
    "            russian_text += letter    \n",
    "        else:\n",
    "            russian_text += \",\"\n",
    "    \n",
    "    # Массив синонимов, возвращаем первые 5\n",
    "    synonymus = []\n",
    "    synonymus = list(filter(lambda x: len(x.split(\" \")) == 1 and len(x) > 0, list(russian_text.split(','))))\n",
    "    \n",
    "    return synonymus[0:5]"
   ]
  },
  {
   "cell_type": "code",
   "execution_count": 84,
   "metadata": {
    "scrolled": true
   },
   "outputs": [
    {
     "data": {
      "text/plain": [
       "['город', 'сити', 'мегаполис', 'г', 'град']"
      ]
     },
     "execution_count": 84,
     "metadata": {},
     "output_type": "execute_result"
    }
   ],
   "source": [
    "search_syn(\"город\")"
   ]
  },
  {
   "cell_type": "code",
   "execution_count": null,
   "metadata": {},
   "outputs": [],
   "source": []
  }
 ],
 "metadata": {
  "kernelspec": {
   "display_name": "Python 3",
   "language": "python",
   "name": "python3"
  },
  "language_info": {
   "codemirror_mode": {
    "name": "ipython",
    "version": 3
   },
   "file_extension": ".py",
   "mimetype": "text/x-python",
   "name": "python",
   "nbconvert_exporter": "python",
   "pygments_lexer": "ipython3",
   "version": "3.7.6"
  },
  "toc": {
   "base_numbering": 1,
   "nav_menu": {},
   "number_sections": true,
   "sideBar": true,
   "skip_h1_title": false,
   "title_cell": "Table of Contents",
   "title_sidebar": "Contents",
   "toc_cell": false,
   "toc_position": {},
   "toc_section_display": true,
   "toc_window_display": false
  }
 },
 "nbformat": 4,
 "nbformat_minor": 4
}
