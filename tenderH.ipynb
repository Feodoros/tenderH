{
 "cells": [
  {
   "cell_type": "code",
   "execution_count": 6,
   "metadata": {},
   "outputs": [],
   "source": [
    "class LSI(object):\n",
    "    def __init__(self, stopwords, ignorechars, docs):\n",
    "        self.wdict = {}\n",
    "        self.dictionary = []\n",
    "        self.stopwords = stopwords\n",
    "        if type(ignorechars) == str: ignorechars = ignorechars.encode('utf-8')\n",
    "        self.ignorechars = ignorechars\n",
    "        for doc in docs: \n",
    "            self.add_doc(doc)\n",
    "\n",
    "    def prepare(self):\n",
    "        self.build()\n",
    "        self.calc()\n",
    "\n",
    "    def dic(self, word, add = False):\n",
    "        if type(word) == str: \n",
    "            word = word.encode('utf-8')\n",
    "        word = word.lower().translate(None, self.ignorechars)\n",
    "        word = word.decode('utf-8')\n",
    "        word = stemmer.stem(word)\n",
    "        if word in self.dictionary: \n",
    "            return self.dictionary.index(word)\n",
    "        else:\n",
    "            if add:\n",
    "                self.dictionary.append(word)\n",
    "                return len(self.dictionary) - 1\n",
    "            else: return None\n",
    "\n",
    "    def add_doc(self, doc):\n",
    "        words = [self.dic(word, True) for word in doc.lower().split()]\n",
    "        self.docs.append(words)\n",
    "        for word in words:\n",
    "            if word in self.stopwords:  \n",
    "                continue\n",
    "            elif word in self.wdict:   \n",
    "                self.wdict[word].append(len(self.docs) - 1)\n",
    "            else:                      \n",
    "                self.wdict[word] = [len(self.docs) - 1]\n",
    "\n",
    "    def build(self):\n",
    "        self.keys = [k for k in self.wdict.keys() if len(self.wdict[k]) > 0]\n",
    "        self.keys.sort()\n",
    "        self.A = zeros([len(self.keys), len(self.docs)])\n",
    "        for i, k in enumerate(self.keys):\n",
    "            for d in self.wdict[k]:\n",
    "                self.A[i,d] += 1\n",
    "\n",
    "    def calc(self):\n",
    "        self.U, self.S, self.Vt = svd(self.A)\n",
    "\n",
    "    def TFIDF(self):\n",
    "        wordsPerDoc = sum(self.A, axis=0)\n",
    "        docsPerWord = sum(asarray(self.A > 0, 'i'), axis=1)\n",
    "        rows, cols = self.A.shape\n",
    "        for i in range(rows):\n",
    "            for j in range(cols):\n",
    "                self.A[i,j] = (self.A[i,j] / wordsPerDoc[j]) * log(float(cols) / docsPerWord[i])\n",
    "\n",
    "    def dump_src(self):\n",
    "        self.prepare()\n",
    "        print('Здесь представлен расчет матрицы ')\n",
    "        for i, row in enumerate(self.A):\n",
    "            print (self.dictionary[i], row)\n",
    "\n",
    "    def print_svd(self):\n",
    "        self.prepare()\n",
    "        print ('Здесь сингулярные значения')\n",
    "        print (self.S)\n",
    "        print ('Здесь первые 3 колонки U матрица ')\n",
    "        for i, row in enumerate(self.U):\n",
    "            print (self.dictionary[self.keys[i]], row[0:3])\n",
    "        print ('Здесь первые 3 строчки Vt матрица')\n",
    "        print (-1*self.Vt[0:3, :])\n",
    "\n",
    "    def find(self, word):\n",
    "        self.prepare()\n",
    "        idx = self.dic(word)\n",
    "        if not idx:\n",
    "            print ('слово невстерчается')\n",
    "            return []\n",
    "        if not idx in self.keys:\n",
    "            print ('слово отброшено как не имеющее значения которое через stopwords')\n",
    "            return []\n",
    "        idx = self.keys.index(idx)\n",
    "        print ('word --- ', word, '=', self.dictionary[self.keys[idx]], '.\\n')\n",
    "        # получаем координаты слова\n",
    "        wx, wy = (-1 * self.U[:, 1:3])[idx]\n",
    "        print ('word {}\\t{:0.2f}\\t{:0.2f}\\t{}\\n'.format(idx, wx, wy, word))\n",
    "        arts = []\n",
    "        xx, yy = -1 * self.Vt[1:3, :]\n",
    "        for k, v in enumerate(self.docs):\n",
    "            ax, ay = xx[k], yy[k]\n",
    "            dx, dy = float(wx - ax), float(wy - ay)\n",
    "            arts.append((k, v, ax, ay, sqrt(dx * dx + dy * dy)))\n",
    "        return sorted(arts, key = lambda a: a[4])"
   ]
  },
  {
   "cell_type": "code",
   "execution_count": null,
   "metadata": {},
   "outputs": [],
   "source": [
    "docs =[\n",
    "  \"Британская полиция знает о местонахождении основателя WikiLeaks\",\n",
    "  \"В суде США США начинается процесс против россиянина, рассылавшего спам\",\n",
    "  \"Церемонию вручения Нобелевской премии мира бойкотируют 19 стран\",\n",
    "  \"В Великобритании арестован основатель сайта Wikileaks Джулиан Ассандж\",\n",
    "  \"Украина игнорирует церемонию вручения Нобелевской премии\",\n",
    "  \"Шведский суд отказался рассматривать апелляцию основателя Wikileaks\",\n",
    "  \"НАТО и США разработали планы обороны стран Балтии против России\",\n",
    "  \"Полиция Великобритании нашла основателя WikiLeaks, но, не арестовала\",\n",
    "  \"В Стокгольме и Осло сегодня состоится вручение Нобелевских премий\"\n",
    "]\n",
    "ignorechars = ''',:'!'''\n",
    "word = \"США\"\n",
    "lsa = LSI([], ignorechars, docs)\n",
    "lsa.build()\n",
    "lsa.dump_src()\n",
    "lsa.calc()\n",
    "lsa.print_svd()\n",
    "\n",
    "for res in lsa.find(word):\n",
    "    print (res[0], res[4])"
   ]
  },
  {
   "cell_type": "code",
   "execution_count": null,
   "metadata": {},
   "outputs": [],
   "source": []
  },
  {
   "cell_type": "code",
   "execution_count": null,
   "metadata": {},
   "outputs": [],
   "source": []
  },
  {
   "cell_type": "code",
   "execution_count": null,
   "metadata": {},
   "outputs": [],
   "source": []
  },
  {
   "cell_type": "code",
   "execution_count": null,
   "metadata": {},
   "outputs": [],
   "source": []
  },
  {
   "cell_type": "markdown",
   "metadata": {},
   "source": [
    "## YaSpeller"
   ]
  },
  {
   "cell_type": "code",
   "execution_count": 16,
   "metadata": {},
   "outputs": [],
   "source": [
    "import requests"
   ]
  },
  {
   "cell_type": "code",
   "execution_count": 17,
   "metadata": {},
   "outputs": [],
   "source": [
    "from pyaspeller import Word"
   ]
  },
  {
   "cell_type": "code",
   "execution_count": 36,
   "metadata": {},
   "outputs": [
    {
     "name": "stdout",
     "output_type": "stream",
     "text": [
      "False\n",
      "['Компьютер']\n"
     ]
    }
   ],
   "source": [
    "check_wrong = Word('Кампьютер')\n",
    "print(check_wrong.correct)\n",
    "print(check_wrong.variants)"
   ]
  },
  {
   "cell_type": "code",
   "execution_count": 34,
   "metadata": {},
   "outputs": [
    {
     "name": "stdout",
     "output_type": "stream",
     "text": [
      "True\n"
     ]
    }
   ],
   "source": [
    "check_correct = Word('Стол')\n",
    "print(check_correct.correct)"
   ]
  },
  {
   "cell_type": "code",
   "execution_count": null,
   "metadata": {},
   "outputs": [],
   "source": []
  },
  {
   "cell_type": "code",
   "execution_count": null,
   "metadata": {},
   "outputs": [],
   "source": []
  },
  {
   "cell_type": "code",
   "execution_count": 37,
   "metadata": {},
   "outputs": [],
   "source": [
    "import pyaspeller"
   ]
  },
  {
   "cell_type": "code",
   "execution_count": 40,
   "metadata": {},
   "outputs": [],
   "source": [
    "text = pyaspeller.YandexSpeller(lang='ru')"
   ]
  },
  {
   "cell_type": "code",
   "execution_count": 47,
   "metadata": {},
   "outputs": [
    {
     "ename": "TypeError",
     "evalue": "'bool' object is not callable",
     "output_type": "error",
     "traceback": [
      "\u001b[1;31m---------------------------------------------------------------------------\u001b[0m",
      "\u001b[1;31mTypeError\u001b[0m                                 Traceback (most recent call last)",
      "\u001b[1;32m<ipython-input-47-eed16648fd34>\u001b[0m in \u001b[0;36m<module>\u001b[1;34m\u001b[0m\n\u001b[1;32m----> 1\u001b[1;33m \u001b[0mtext\u001b[0m\u001b[1;33m.\u001b[0m\u001b[0mby_words\u001b[0m\u001b[1;33m(\u001b[0m\u001b[1;34m\"Я сежу за кампьютером\"\u001b[0m\u001b[1;33m)\u001b[0m\u001b[1;33m\u001b[0m\u001b[1;33m\u001b[0m\u001b[0m\n\u001b[0m",
      "\u001b[1;31mTypeError\u001b[0m: 'bool' object is not callable"
     ]
    }
   ],
   "source": [
    "text.by_words(\"Я сежу за кампьютером\")"
   ]
  },
  {
   "cell_type": "code",
   "execution_count": 41,
   "metadata": {},
   "outputs": [
    {
     "data": {
      "text/plain": [
       "<generator object Speller.spell at 0x0000021F8342D6C8>"
      ]
     },
     "execution_count": 41,
     "metadata": {},
     "output_type": "execute_result"
    }
   ],
   "source": [
    "text.spell(\"Я сежу за кампьютером\")"
   ]
  },
  {
   "cell_type": "code",
   "execution_count": 43,
   "metadata": {},
   "outputs": [],
   "source": [
    "def spelled(text):\n",
    "    speller = pyaspeller.YandexSpeller(lang='ru', find_repeat_words=False,\n",
    "                                       ignore_digits=True)\n",
    "    return speller.spell(text)\n",
    "\n"
   ]
  },
  {
   "cell_type": "code",
   "execution_count": 46,
   "metadata": {},
   "outputs": [],
   "source": [
    "t = spelled(\"Я сежу за кампьютером\")"
   ]
  },
  {
   "cell_type": "code",
   "execution_count": null,
   "metadata": {},
   "outputs": [],
   "source": []
  }
 ],
 "metadata": {
  "kernelspec": {
   "display_name": "Python 3",
   "language": "python",
   "name": "python3"
  },
  "language_info": {
   "codemirror_mode": {
    "name": "ipython",
    "version": 3
   },
   "file_extension": ".py",
   "mimetype": "text/x-python",
   "name": "python",
   "nbconvert_exporter": "python",
   "pygments_lexer": "ipython3",
   "version": "3.7.6"
  }
 },
 "nbformat": 4,
 "nbformat_minor": 4
}
